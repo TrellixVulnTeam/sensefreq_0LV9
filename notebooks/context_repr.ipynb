{
 "cells": [
  {
   "cell_type": "code",
   "execution_count": 52,
   "metadata": {
    "collapsed": false
   },
   "outputs": [
    {
     "data": {
      "text/plain": [
       "['люба',\n",
       " 'входить',\n",
       " 'в',\n",
       " 'двухкомнатный',\n",
       " 'квартира',\n",
       " '.',\n",
       " 'хоть',\n",
       " 'и',\n",
       " 'хрущевка',\n",
       " 'зато',\n",
       " 'быть',\n",
       " 'горячий',\n",
       " 'вода',\n",
       " 'теплый',\n",
       " 'туалет',\n",
       " 'и',\n",
       " 'под',\n",
       " 'каждый',\n",
       " 'окно',\n",
       " 'отопительный',\n",
       " 'мешать',\n",
       " 'только',\n",
       " 'война',\n",
       " 'с',\n",
       " 'сосед']"
      ]
     },
     "execution_count": 52,
     "metadata": {},
     "output_type": "execute_result"
    }
   ],
   "source": [
    "from rlwsd.utils import lemmatize_s\n",
    "left, right = 'Люба вошла в двухкомнатную квартиру . Хоть и хрущевка зато есть горячая вода теплый туалет и под каждым окном отопительная', 'Мешала только война с соседями'\n",
    "word = 'батарея'\n",
    "context = lemmatize_s(left) + lemmatize_s(right)\n",
    "context"
   ]
  },
  {
   "cell_type": "code",
   "execution_count": 2,
   "metadata": {
    "collapsed": false
   },
   "outputs": [],
   "source": [
    "import rlwsd\n",
    "model = rlwsd.SphericalModel.load(word)"
   ]
  },
  {
   "cell_type": "code",
   "execution_count": 23,
   "metadata": {
    "collapsed": false
   },
   "outputs": [
    {
     "data": {
      "text/plain": [
       "'2'"
      ]
     },
     "execution_count": 23,
     "metadata": {},
     "output_type": "execute_result"
    }
   ],
   "source": [
    "model.disambiguate(left, word, right)"
   ]
  },
  {
   "cell_type": "code",
   "execution_count": 3,
   "metadata": {
    "collapsed": false
   },
   "outputs": [],
   "source": [
    "from rs.supervised import load_weights\n",
    "weights = load_weights(word, '../../corpora/ad-nouns/')"
   ]
  },
  {
   "cell_type": "code",
   "execution_count": 53,
   "metadata": {
    "collapsed": false
   },
   "outputs": [
    {
     "name": "stdout",
     "output_type": "stream",
     "text": [
      "-1.00 люба\n",
      "0.05 входить\n",
      "0.00 в\n",
      "0.00 двухкомнатный\n",
      "0.12 квартира\n",
      "-1.00 .\n",
      "0.00 хоть\n",
      "0.00 и\n",
      "0.67 хрущевка\n",
      "0.00 зато\n",
      "0.01 быть\n",
      "1.00 горячий\n",
      "0.31 вода\n",
      "0.95 теплый\n",
      "0.03 туалет\n",
      "0.00 и\n",
      "0.68 под\n",
      "0.09 каждый\n",
      "0.43 окно\n",
      "3.74 отопительный\n",
      "0.00 мешать\n",
      "0.00 только\n",
      "0.70 война\n",
      "0.07 с\n",
      "0.04 сосед\n"
     ]
    }
   ],
   "source": [
    "for w in context:\n",
    "    print('{:.2f} {}'.format(weights.get(w, -1), w))"
   ]
  },
  {
   "cell_type": "code",
   "execution_count": 43,
   "metadata": {
    "collapsed": false
   },
   "outputs": [],
   "source": [
    "word_contexts = [\n",
    "    lemmatize_s(left) + lemmatize_s(right) for left, _, right in (\n",
    "        line.strip().split('\\t') for line in open(\n",
    "            '../../corpora/ad-nouns/ruTenTen/батарея.txt'))]"
   ]
  },
  {
   "cell_type": "code",
   "execution_count": 45,
   "metadata": {
    "collapsed": false
   },
   "outputs": [],
   "source": [
    "from rlwsd.w2v_client import w2v_vecs\n",
    "\n",
    "vectors = []\n",
    "for ctx in word_contexts:\n",
    "    vectors.extend(v for v in w2v_vecs(ctx) if v is not None)"
   ]
  },
  {
   "cell_type": "code",
   "execution_count": 46,
   "metadata": {
    "collapsed": false
   },
   "outputs": [],
   "source": [
    "import random\n",
    "random.shuffle(vectors)"
   ]
  },
  {
   "cell_type": "code",
   "execution_count": 54,
   "metadata": {
    "collapsed": false
   },
   "outputs": [],
   "source": [
    "from scipy.spatial.distance import cdist\n",
    "context_vectors = [(w, weights[w], v) for w, v in zip(context, w2v_vecs(context))\n",
    "                   if v is not None and w in weights]\n",
    "sense_vectors = [v for _, v in sorted(model.sense_vectors.items())]\n",
    "context_vector = model.cv((left, word, right))\n",
    "dist_vectors = [v for _, _, v in context_vectors] + sense_vectors + [context_vector] + vectors[:500]\n",
    "distances = cdist(dist_vectors, dist_vectors, 'cosine')\n",
    "distances[distances < 0] = 0"
   ]
  },
  {
   "cell_type": "code",
   "execution_count": 61,
   "metadata": {
    "collapsed": false
   },
   "outputs": [],
   "source": [
    "from sklearn.manifold import TSNE\n",
    "tsne = TSNE(2, metric='precomputed')\n",
    "transformed = tsne.fit_transform(distances)"
   ]
  },
  {
   "cell_type": "code",
   "execution_count": 106,
   "metadata": {
    "collapsed": false
   },
   "outputs": [
    {
     "name": "stdout",
     "output_type": "stream",
     "text": [
      "1 Батарея А2 под командованием А1 ‘Воинское подразделение в артиллерии или ракетных войсках А2, которым командует человек А1, состоящее из 2–3 взводов и имеющее в своем составе несколько орудий, или сами эти орудия’.\n",
      "2 ‘Конструкция для отопления помещения, состоящая из соединенных друг с другом одинаковых частей, внутри которых находится горячая жидкость или пар, и соединенная трубами с источником нагревания’.\n",
      "3 Батарея А1 ‘Источник электрического тока, являющийся частью или предназначенный для автономного питания прибора или устройства А1’.\n",
      "4 Батарея А1 ‘Большое количество вертикально вытянутых однотипных предметов А1, расположенных рядами’.\n"
     ]
    },
    {
     "data": {
      "image/png": "[encoded data removed]",
      "text/plain": [
       "<matplotlib.figure.Figure at 0x115b001d0>"
      ]
     },
     "metadata": {},
     "output_type": "display_data"
    }
   ],
   "source": [
    "%matplotlib inline\n",
    "import math\n",
    "import matplotlib.pyplot as plt\n",
    "plt.figure(figsize=(10, 6))\n",
    "font = {'family': 'Verdana', 'weight': 'normal'}\n",
    "plt.rc('font', **font)\n",
    "for (w, weight, _), (x, y) in zip(context_vectors, transformed):\n",
    "    if weight > 0.01:\n",
    "        if w in {'под', 'с', 'входить', 'каждый'}: continue\n",
    "        #print(w, x, y)\n",
    "        plt.plot(x, y, marker='o', markersize=12*math.sqrt(weight), color='b')\n",
    "        dx, dy = {\n",
    "            'отопительный': (0.5, -0.1),\n",
    "            'горячий': (0, -0.5),\n",
    "            'теплый': (0, 0.4),\n",
    "        }.get(w, (0, 0))\n",
    "        plt.annotate(w, xy=(x + 0.5 + dx, y + dy))\n",
    "for (sense, _), (x, y) in zip(sorted(model.sense_vectors.items()), transformed[len(context_vectors):]):\n",
    "    plt.plot(x, y, marker='s', color='r', markersize=10)\n",
    "    plt.annotate(sense, xy=(x - 0.2, y + 0.8))\n",
    "\n",
    "x, y = transformed[len(context_vectors) + len(model.sense_vectors)]\n",
    "plt.plot(x, y, marker='^', color='m', markersize=25)\n",
    "plt.annotate('context', xy=(x + 0.6, y))\n",
    "\n",
    "for sid, s in sorted(model.senses.items()):\n",
    "    print(sid, s['meaning'])\n",
    "\n",
    "plt.xlim((-30.0, 15.0))\n",
    "plt.ylim((-30.0, -5.0))\n",
    "\n",
    "plt.axes().get_xaxis().set_visible(False)\n",
    "plt.axes().get_yaxis().set_visible(False)\n",
    "\n",
    "plt.savefig('context_repr_3.pdf')"
   ]
  }
 ],
 "metadata": {
  "kernelspec": {
   "display_name": "Python 3",
   "language": "python",
   "name": "python3"
  },
  "language_info": {
   "codemirror_mode": {
    "name": "ipython",
    "version": 3
   },
   "file_extension": ".py",
   "mimetype": "text/x-python",
   "name": "python",
   "nbconvert_exporter": "python",
   "pygments_lexer": "ipython3",
   "version": "3.5.1"
  }
 },
 "nbformat": 4,
 "nbformat_minor": 1
}
