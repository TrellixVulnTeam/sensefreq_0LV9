{
 "cells": [
  {
   "cell_type": "markdown",
   "metadata": {},
   "source": [
    "Теперь посмотрим как семантические вектора помогают решать задачу Word Sense Induction - WSI.\n",
    "\n",
    "Для начала скопируем из предыдущей тетрадки все полезное: загрузим модель и контексты, определим токенизатор и функцию векторного представления контекста."
   ]
  },
  {
   "cell_type": "code",
   "execution_count": 8,
   "metadata": {
    "collapsed": true
   },
   "outputs": [],
   "source": [
    "import re\n",
    "import numpy as np\n",
    "from gensim.models import Word2Vec\n",
    "from pymystem3 import Mystem\n",
    "import rl_wsd_labeled\n",
    "\n",
    "mystem = Mystem()"
   ]
  },
  {
   "cell_type": "code",
   "execution_count": 9,
   "metadata": {
    "collapsed": true
   },
   "outputs": [],
   "source": [
    "w2v_model = Word2Vec.load('../rlwsd/models/w2v.pkl')"
   ]
  },
  {
   "cell_type": "code",
   "execution_count": 4,
   "metadata": {
    "collapsed": true
   },
   "outputs": [],
   "source": [
    "_, contexts = rl_wsd_labeled.get_contexts(\n",
    "    rl_wsd_labeled.contexts_filename('nouns', 'RuTenTen', 'горшок'))"
   ]
  },
  {
   "cell_type": "code",
   "execution_count": 7,
   "metadata": {
    "collapsed": false
   },
   "outputs": [
    {
     "data": {
      "text/plain": [
       "array([-0.02453865,  0.00159344,  0.0526606 , ...,  0.01031213,\n",
       "       -0.01585422,  0.02414869], dtype=float32)"
      ]
     },
     "execution_count": 7,
     "metadata": {},
     "output_type": "execute_result"
    }
   ],
   "source": [
    "def tokenize(s):\n",
    "    return [t for t in mystem.lemmatize(s)\n",
    "            if re.match('\\w+$', t)]\n",
    "\n",
    "def context_repr(context):\n",
    "    left, _, right = context\n",
    "    words = tokenize(left) + tokenize(right)\n",
    "    return np.mean([w2v_model[w] for w in words if w in w2v_model],\n",
    "                    axis=0)\n",
    "\n",
    "context_repr(contexts[1][0])"
   ]
  },
  {
   "cell_type": "markdown",
   "metadata": {},
   "source": [
    "Подготовим данные для кластеризации:"
   ]
  },
  {
   "cell_type": "code",
   "execution_count": 19,
   "metadata": {
    "collapsed": false
   },
   "outputs": [],
   "source": [
    "xs = [ctx for ctx, _ in contexts]\n",
    "ys = np.array([int(s) - 1 for _, s in contexts])\n",
    "xs_vec = np.array([context_repr(ctx) for ctx in xs])"
   ]
  },
  {
   "cell_type": "markdown",
   "metadata": {},
   "source": [
    "Попробуем использовать для кластеризации ``KMeans``:"
   ]
  },
  {
   "cell_type": "code",
   "execution_count": 14,
   "metadata": {
    "collapsed": false
   },
   "outputs": [
    {
     "data": {
      "text/plain": [
       "KMeans(algorithm='auto', copy_x=True, init='k-means++', max_iter=300,\n",
       "    n_clusters=6, n_init=10, n_jobs=1, precompute_distances='auto',\n",
       "    random_state=None, tol=0.0001, verbose=0)"
      ]
     },
     "execution_count": 14,
     "metadata": {},
     "output_type": "execute_result"
    }
   ],
   "source": [
    "from sklearn.cluster import KMeans\n",
    "\n",
    "kmeans = KMeans(n_clusters=6)\n",
    "kmeans.fit(xs_vec)"
   ]
  },
  {
   "cell_type": "markdown",
   "metadata": {},
   "source": [
    "Результат кластеризации k-means это цетры кластеров:"
   ]
  },
  {
   "cell_type": "code",
   "execution_count": 15,
   "metadata": {
    "collapsed": false
   },
   "outputs": [
    {
     "data": {
      "text/plain": [
       "array([[-0.02604795, -0.03269598,  0.01746345, ...,  0.02113272,\n",
       "         0.03147279,  0.03588657],\n",
       "       [-0.01671131, -0.02545614,  0.04128313, ...,  0.00794684,\n",
       "         0.01390636,  0.05033641],\n",
       "       [-0.00174833, -0.02311012,  0.02854693, ...,  0.00688501,\n",
       "         0.02628346,  0.05596653],\n",
       "       [-0.01390544, -0.00363304,  0.02211228, ..., -0.00166642,\n",
       "         0.02305105,  0.03536921],\n",
       "       [ 0.01196016, -0.03844162,  0.05034662, ...,  0.0379402 ,\n",
       "        -0.02400529,  0.04493199],\n",
       "       [ 0.00523113, -0.0384718 ,  0.07009128, ...,  0.00158443,\n",
       "         0.00127588,  0.0548449 ]], dtype=float32)"
      ]
     },
     "execution_count": 15,
     "metadata": {},
     "output_type": "execute_result"
    }
   ],
   "source": [
    "kmeans.cluster_centers_"
   ]
  },
  {
   "cell_type": "markdown",
   "metadata": {},
   "source": [
    "Также у нас уже есть номера кластеров для всех контекстов:"
   ]
  },
  {
   "cell_type": "code",
   "execution_count": 16,
   "metadata": {
    "collapsed": false
   },
   "outputs": [
    {
     "data": {
      "text/plain": [
       "array([5, 2, 0, 2, 0, 1, 2, 3, 3, 2, 3, 3, 3, 3, 2, 4, 4, 3, 3, 2, 3, 3, 3,\n",
       "       3, 0, 3, 3, 3, 3, 2, 3, 0, 3, 3, 3, 3, 3, 2, 3, 0, 2, 3, 0, 2, 4, 1,\n",
       "       3, 2, 0, 0, 2, 2, 1, 2, 3, 2, 4, 2, 3, 3, 3, 3, 2, 3, 0, 3, 2, 0, 5,\n",
       "       2, 0, 3, 0, 2, 0, 0, 0, 2, 3, 3, 3, 2, 4, 3, 4, 3, 3, 3, 3, 3, 2, 4,\n",
       "       0, 2, 1, 2, 3, 3, 3, 2, 0, 1, 3, 3, 2, 3, 1, 3, 3, 3, 0, 2, 0, 3, 2,\n",
       "       1, 3, 2, 2, 2, 3, 3, 4, 4, 2, 3, 0, 3, 4, 5, 2, 0, 1, 2, 3, 3, 1, 2,\n",
       "       2, 2, 3, 1, 1, 3, 3, 3, 3, 3, 1, 3, 1, 1, 3, 3, 2, 3, 2, 2, 4, 1, 2,\n",
       "       3, 1, 0, 0, 2, 4, 4, 1, 3, 3, 3, 1, 0, 3, 3, 0, 3, 2, 3, 3, 1, 0, 1,\n",
       "       4, 4, 0, 1, 3, 3, 3, 3, 1, 3, 2, 3, 3, 3, 0, 1, 1, 1, 2, 3, 3, 0, 2,\n",
       "       2, 0, 3, 3, 3, 3, 2, 3, 1, 2, 2, 2, 1, 3, 1, 3, 5, 2, 3, 3, 3, 2, 2,\n",
       "       1, 2, 2, 1, 3, 1, 3, 2, 2, 2, 0, 2, 1, 2, 4, 3, 3, 1, 3, 1, 3, 2, 1,\n",
       "       3, 2, 2, 0, 3, 3, 3, 3, 3, 3, 4, 5, 3, 3, 2, 3, 2, 3, 2, 1, 3, 5, 3,\n",
       "       2, 2, 1, 2, 0, 2, 2, 3, 3, 3, 2, 2, 3, 3, 2, 3, 1, 0, 1, 3, 4, 1, 3,\n",
       "       2, 3, 3, 3, 3, 3, 3, 2, 0, 3, 3, 3, 3, 0, 2, 3, 2, 3, 2, 3, 3, 3, 3,\n",
       "       1, 3, 3, 5, 5, 4, 2, 4, 3, 3, 3, 2, 3, 3, 1, 2, 2, 3, 2, 2, 3, 3, 3,\n",
       "       3, 3, 1, 2, 1, 3, 3, 0, 3, 3, 3, 0, 3, 0, 3, 3, 3, 3, 3, 2, 2, 2, 3,\n",
       "       3, 2, 3, 2, 3, 3, 0, 2, 3, 3, 3, 1, 3, 2, 3, 0, 3, 3, 2, 3, 2, 1, 3,\n",
       "       3, 2, 3, 1, 2, 3, 2, 3, 3, 3, 3, 3, 2, 1, 3], dtype=int32)"
      ]
     },
     "execution_count": 16,
     "metadata": {},
     "output_type": "execute_result"
    }
   ],
   "source": [
    "kmeans.labels_"
   ]
  },
  {
   "cell_type": "markdown",
   "metadata": {},
   "source": [
    "Как оценить точность кластеризации?\n",
    "Мы не можем просто сравнить номера размеченных и найденных значений - мы можем только сравнить,\n",
    "насколько кластеризация похожа на \"истинную\":"
   ]
  },
  {
   "cell_type": "code",
   "execution_count": 20,
   "metadata": {
    "collapsed": false
   },
   "outputs": [
    {
     "data": {
      "text/plain": [
       "0.091021874246701939"
      ]
     },
     "execution_count": 20,
     "metadata": {},
     "output_type": "execute_result"
    }
   ],
   "source": [
    "from sklearn.metrics import adjusted_rand_score\n",
    "\n",
    "adjusted_rand_score(ys, kmeans.labels_)"
   ]
  },
  {
   "cell_type": "markdown",
   "metadata": {},
   "source": [
    "Задания:\n",
    "\n",
    "Непонятно, что за значения выделил метод, насколько они осмысленные?\n",
    "Попробуйте представить выделенные значения:\n",
    " - через ближайшие слова\n",
    " - через типичные контексты\n",
    " \n",
    "Как еще можно визуализировать работу метода и качество представлений значений? Попробуйте использовать t-SNE."
   ]
  }
 ],
 "metadata": {
  "kernelspec": {
   "display_name": "Python 3",
   "language": "python",
   "name": "python3"
  },
  "language_info": {
   "codemirror_mode": {
    "name": "ipython",
    "version": 3
   },
   "file_extension": ".py",
   "mimetype": "text/x-python",
   "name": "python",
   "nbconvert_exporter": "python",
   "pygments_lexer": "ipython3",
   "version": "3.5.1"
  }
 },
 "nbformat": 4,
 "nbformat_minor": 1
}
