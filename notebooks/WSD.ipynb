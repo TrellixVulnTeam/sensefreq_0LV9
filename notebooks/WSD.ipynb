{
 "cells": [
  {
   "cell_type": "markdown",
   "metadata": {},
   "source": [
    "Наша первая задача - научиться делать Word Sense Disambiguation (WSD) при помощи семантических векторов.\n",
    "Все необходимые библиотеки можно поставить при помощи команды\n",
    "\n",
    "    pip install -U numpy scipy scikit-learn gensim rl_wsd_labeled\n",
    "    \n",
    "Скачайте word2vec модель по ссылке **TODO** - ссылка, сделать небольшую модель.\n",
    "\n",
    "Загрузим word2vec модель при помощи библиотеки gensim (**TODO** - ссылка):"
   ]
  },
  {
   "cell_type": "code",
   "execution_count": 2,
   "metadata": {
    "collapsed": true
   },
   "outputs": [],
   "source": [
    "from gensim.models import Word2Vec\n",
    "w2v_model = Word2Vec.load('../rlwsd/models/w2v.pkl')"
   ]
  },
  {
   "cell_type": "markdown",
   "metadata": {},
   "source": [
    "Эта модель возвращает вектор по слову:"
   ]
  },
  {
   "cell_type": "code",
   "execution_count": 28,
   "metadata": {
    "collapsed": false
   },
   "outputs": [
    {
     "data": {
      "text/plain": [
       "array([ 0.14857584, -0.02300115,  0.21244895, ...,  0.19848056,\n",
       "        0.07429154,  0.09368484], dtype=float32)"
      ]
     },
     "execution_count": 28,
     "metadata": {},
     "output_type": "execute_result"
    }
   ],
   "source": [
    "w2v_model['горшок']"
   ]
  },
  {
   "cell_type": "code",
   "execution_count": 29,
   "metadata": {
    "collapsed": false
   },
   "outputs": [
    {
     "data": {
      "text/plain": [
       "(1024,)"
      ]
     },
     "execution_count": 29,
     "metadata": {},
     "output_type": "execute_result"
    }
   ],
   "source": [
    "w2v_model['горшок'].shape"
   ]
  },
  {
   "cell_type": "markdown",
   "metadata": {},
   "source": [
    "Она построена по лемматизированному корпусу, так что слова \"горшка\" в ней нет:"
   ]
  },
  {
   "cell_type": "code",
   "execution_count": null,
   "metadata": {
    "collapsed": false
   },
   "outputs": [],
   "source": [
    "w2v_model['горшка']"
   ]
  },
  {
   "cell_type": "markdown",
   "metadata": {},
   "source": [
    "Загрузим размеченные контексты для слова \"горшок\".\n",
    "\n",
    "Мы занимаемся WSD, это supervised задача, так что нам нужны размеченные данные:"
   ]
  },
  {
   "cell_type": "code",
   "execution_count": 44,
   "metadata": {
    "collapsed": false
   },
   "outputs": [],
   "source": [
    "import rl_wsd_labeled\n",
    "\n",
    "senses, contexts = rl_wsd_labeled.get_contexts(\n",
    "    rl_wsd_labeled.contexts_filename('nouns', 'RuTenTen', 'горшок'))"
   ]
  },
  {
   "cell_type": "code",
   "execution_count": 30,
   "metadata": {
    "collapsed": false
   },
   "outputs": [
    {
     "data": {
      "text/plain": [
       "{'1': 'Округлый глиняный сосуд для приготовления пищи (печной горшок)',\n",
       " '2': 'Расширяющийся кверху сосуд с отверстием в дне (цветочный горшок)',\n",
       " '3': 'Ночной горшок'}"
      ]
     },
     "execution_count": 30,
     "metadata": {},
     "output_type": "execute_result"
    }
   ],
   "source": [
    "senses"
   ]
  },
  {
   "cell_type": "markdown",
   "metadata": {},
   "source": [
    "Каждый контекст имеет левую часть, слово для которого мы разметили значение, и правую часть:"
   ]
  },
  {
   "cell_type": "code",
   "execution_count": 60,
   "metadata": {
    "collapsed": false
   },
   "outputs": [
    {
     "data": {
      "text/plain": [
       "(406,\n",
       " [(('телевизор, - ковер, , - музыкальный центр, - стол, - аквариум, - 3 шкафа, - цветы в',\n",
       "    ' горшках',\n",
       "    ', - мелкие аксессуары.'),\n",
       "   '2'),\n",
       "  (('перевалить в больший горшок, стараясь не повредить корни. Я выращиваю базилик в',\n",
       "    ' горшках',\n",
       "    ' объемом 0,7-1 литр. Этого ему вполне хватает. Можно брать горшки большего объема'),\n",
       "   '2'),\n",
       "  (('удобрениями. Весна это лучшее время для preszhdane горшечные растения в больший',\n",
       "    ' горшок',\n",
       "    ' со свежей почвой. Большинство из нас хорошо знают chitatelite эту практику, так'),\n",
       "   '2')])"
      ]
     },
     "execution_count": 60,
     "metadata": {},
     "output_type": "execute_result"
    }
   ],
   "source": [
    "len(contexts), contexts[:3]"
   ]
  },
  {
   "cell_type": "code",
   "execution_count": 33,
   "metadata": {
    "collapsed": false
   },
   "outputs": [
    {
     "data": {
      "text/plain": [
       "('перевалить в больший горшок, стараясь не повредить корни. Я выращиваю базилик в',\n",
       " ' объемом 0,7-1 литр. Этого ему вполне хватает. Можно брать горшки большего объема')"
      ]
     },
     "execution_count": 33,
     "metadata": {},
     "output_type": "execute_result"
    }
   ],
   "source": [
    "left, _, right = contexts[1][0]\n",
    "left, right"
   ]
  },
  {
   "cell_type": "markdown",
   "metadata": {},
   "source": [
    "Видно что контексты не лемматизованы, но в нашей модели есть только лемматизованые слова. Исправим это - загрузим mystem:"
   ]
  },
  {
   "cell_type": "code",
   "execution_count": 62,
   "metadata": {
    "collapsed": false
   },
   "outputs": [],
   "source": [
    "from pymystem3 import Mystem\n",
    "mystem = Mystem()"
   ]
  },
  {
   "cell_type": "code",
   "execution_count": 63,
   "metadata": {
    "collapsed": false
   },
   "outputs": [
    {
     "data": {
      "text/plain": [
       "['перевалить',\n",
       " ' ',\n",
       " 'в',\n",
       " ' ',\n",
       " 'больший',\n",
       " ' ',\n",
       " 'горшок',\n",
       " ', ',\n",
       " 'стараться',\n",
       " ' ',\n",
       " 'не',\n",
       " ' ',\n",
       " 'повреждать',\n",
       " ' ',\n",
       " 'корень',\n",
       " '. ',\n",
       " 'я',\n",
       " ' ',\n",
       " 'выращивать',\n",
       " ' ',\n",
       " 'базилик',\n",
       " ' ',\n",
       " 'в',\n",
       " '\\n']"
      ]
     },
     "execution_count": 63,
     "metadata": {},
     "output_type": "execute_result"
    }
   ],
   "source": [
    "mystem.lemmatize(left)"
   ]
  },
  {
   "cell_type": "markdown",
   "metadata": {},
   "source": [
    "Нас будут интересовать только слова, отбросим знаки препинания и разделители:"
   ]
  },
  {
   "cell_type": "code",
   "execution_count": 42,
   "metadata": {
    "collapsed": false
   },
   "outputs": [
    {
     "data": {
      "text/plain": [
       "['перевалить',\n",
       " 'в',\n",
       " 'больший',\n",
       " 'горшок',\n",
       " 'стараться',\n",
       " 'не',\n",
       " 'повреждать',\n",
       " 'корень',\n",
       " 'я',\n",
       " 'выращивать',\n",
       " 'базилик',\n",
       " 'в']"
      ]
     },
     "execution_count": 42,
     "metadata": {},
     "output_type": "execute_result"
    }
   ],
   "source": [
    "import re\n",
    "\n",
    "def tokenize(s):\n",
    "    return [t for t in mystem.lemmatize(s)\n",
    "            if re.match('\\w+$', t)]\n",
    "\n",
    "tokenize(left)"
   ]
  },
  {
   "cell_type": "markdown",
   "metadata": {},
   "source": [
    "Теперь построим векторное представление контекста: возьмем среднее векторов всех слов контекста:"
   ]
  },
  {
   "cell_type": "code",
   "execution_count": 41,
   "metadata": {
    "collapsed": false
   },
   "outputs": [
    {
     "data": {
      "text/plain": [
       "(1024,)"
      ]
     },
     "execution_count": 41,
     "metadata": {},
     "output_type": "execute_result"
    }
   ],
   "source": [
    "import numpy as np\n",
    "\n",
    "def context_repr(context):\n",
    "    left, _, right = context\n",
    "    words = tokenize(left) + tokenize(right)\n",
    "    return np.mean([w2v_model[w] for w in words if w in w2v_model],\n",
    "                    axis=0)\n",
    "\n",
    "context_repr(contexts[1][0])"
   ]
  },
  {
   "cell_type": "markdown",
   "metadata": {},
   "source": [
    "**Вопрос:** нужно ли использовать один и тот же лемматизатор для преобразования контекста и при построении word2vec модели?\n",
    "\n",
    "Дальше подготовим данные для обучения:"
   ]
  },
  {
   "cell_type": "code",
   "execution_count": 75,
   "metadata": {
    "collapsed": false
   },
   "outputs": [],
   "source": [
    "from sklearn.neighbors import NearestCentroid\n",
    "from sklearn.model_selection import cross_val_score\n",
    "\n",
    "word = 'горшок'\n",
    "senses, contexts = rl_wsd_labeled.get_contexts(\n",
    "    rl_wsd_labeled.contexts_filename('nouns', 'RuTenTen', word))\n",
    "xs = [ctx for ctx, _ in contexts]\n",
    "ys = np.array([int(s) - 1 for _, s in contexts])"
   ]
  },
  {
   "cell_type": "markdown",
   "metadata": {},
   "source": [
    "Построим векторные представления всех контекстов:"
   ]
  },
  {
   "cell_type": "code",
   "execution_count": 76,
   "metadata": {
    "collapsed": false
   },
   "outputs": [],
   "source": [
    "xs_vec = np.array([context_repr(ctx) for ctx in xs])"
   ]
  },
  {
   "cell_type": "markdown",
   "metadata": {},
   "source": [
    "И обучим модель ``NearestCentroid`` используя кросс-валидацию:"
   ]
  },
  {
   "cell_type": "code",
   "execution_count": 85,
   "metadata": {
    "collapsed": false
   },
   "outputs": [
    {
     "name": "stdout",
     "output_type": "stream",
     "text": [
      "Accuracy: 0.82 ± 0.07\n"
     ]
    }
   ],
   "source": [
    "scores = cross_val_score(NearestCentroid(), X=xs_vec, y=ys, cv=5)\n",
    "print('Accuracy: {:.2f} ± {:.2f}'.format(np.mean(scores), 2 * np.std(scores)))"
   ]
  },
  {
   "cell_type": "markdown",
   "metadata": {},
   "source": [
    "Наша метрика тут - точность. Но сколько можно получить, предсказывая самое частотное значение?"
   ]
  },
  {
   "cell_type": "code",
   "execution_count": 82,
   "metadata": {
    "collapsed": false
   },
   "outputs": [
    {
     "name": "stdout",
     "output_type": "stream",
     "text": [
      "Most frequent sense baseline: 0.57\n"
     ]
    }
   ],
   "source": [
    "labels, counts = np.unique(ys, return_counts=True)\n",
    "print('Most frequent sense baseline: {:.2f}'.format(\n",
    "        np.mean(ys == labels[counts.argmax()])))"
   ]
  },
  {
   "cell_type": "markdown",
   "metadata": {},
   "source": [
    "Теперь можно обучить классификатор на всех примерах и задать ему свой контекст для дизамбигуации:"
   ]
  },
  {
   "cell_type": "code",
   "execution_count": 86,
   "metadata": {
    "collapsed": false
   },
   "outputs": [
    {
     "data": {
      "text/plain": [
       "NearestCentroid(metric='euclidean', shrink_threshold=None)"
      ]
     },
     "execution_count": 86,
     "metadata": {},
     "output_type": "execute_result"
    }
   ],
   "source": [
    "clf = NearestCentroid()\n",
    "clf.fit(xs_vec, ys)"
   ]
  },
  {
   "cell_type": "code",
   "execution_count": 89,
   "metadata": {
    "collapsed": false
   },
   "outputs": [
    {
     "data": {
      "text/plain": [
       "'Расширяющийся кверху сосуд с отверстием в дне (цветочный горшок)'"
      ]
     },
     "execution_count": 89,
     "metadata": {},
     "output_type": "execute_result"
    }
   ],
   "source": [
    "def predict(ctx):\n",
    "    pred, = clf.predict([context_repr(ctx)])\n",
    "    return senses[str(pred + 1)]\n",
    "\n",
    "predict(('он полил цветы в', 'горшках', 'и выключил свет'))"
   ]
  },
  {
   "cell_type": "code",
   "execution_count": 90,
   "metadata": {
    "collapsed": false
   },
   "outputs": [
    {
     "data": {
      "text/plain": [
       "'Ночной горшок'"
      ]
     },
     "execution_count": 90,
     "metadata": {},
     "output_type": "execute_result"
    }
   ],
   "source": [
    "predict(('он сел на', 'горшок', ''))"
   ]
  },
  {
   "cell_type": "markdown",
   "metadata": {},
   "source": [
    "Задания - выбирать по вкусу:\n",
    "1. Можете ли вы заставить классификатор ошибиться?\n",
    "2. На каких тренировочных примерах он ошибается и почему?\n",
    "3. А какая точность для других слов?\n",
    "4. Как точность зависит от количества слов для обучения?\n",
    "5. ``NearestCentroid`` не умеет работать с косинусной мерой близости, но известно что она работает лучше чем евклидова - сделайте классификатор который использует её и сравните качество.\n",
    "6. Попробуйте использовать другие классификаторы из ``scikit-learn``, например ближайшие соседи, логистическую регрессию, другие. Какой классификатор работает лучше всех?\n",
    "7. В представлении контекста (``context_repr``) мы учитываем все слова. Но все ли слова одинаково важны? Можете ли вы изменить эту функцию так, чтобы она давала более качественное предстваление контекста?\n",
    "8. Какой будет результат если не использовать семантические вектора, а непосредственно слова?\n",
    "9. Насколько важно качество word2vec модели?"
   ]
  }
 ],
 "metadata": {
  "kernelspec": {
   "display_name": "Python 3",
   "language": "python",
   "name": "python3"
  },
  "language_info": {
   "codemirror_mode": {
    "name": "ipython",
    "version": 3
   },
   "file_extension": ".py",
   "mimetype": "text/x-python",
   "name": "python",
   "nbconvert_exporter": "python",
   "pygments_lexer": "ipython3",
   "version": "3.5.1"
  }
 },
 "nbformat": 4,
 "nbformat_minor": 1
}
