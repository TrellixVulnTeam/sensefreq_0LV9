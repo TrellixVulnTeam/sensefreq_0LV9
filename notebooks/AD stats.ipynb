{
 "cells": [
  {
   "cell_type": "code",
   "execution_count": 45,
   "metadata": {
    "collapsed": true
   },
   "outputs": [],
   "source": [
    "import re\n",
    "from pathlib import Path\n",
    "\n",
    "import numpy as np\n",
    "import matplotlib.pyplot as plt\n",
    "%matplotlib inline\n",
    "\n",
    "from rs.active_dict.loader import get_ad_word\n",
    "\n",
    "AD_ROOT = '../freq2/'"
   ]
  },
  {
   "cell_type": "code",
   "execution_count": 14,
   "metadata": {},
   "outputs": [
    {
     "data": {
      "text/plain": [
       "1900"
      ]
     },
     "execution_count": 14,
     "metadata": {},
     "output_type": "execute_result"
    }
   ],
   "source": [
    "all_words = sorted({re.match('[^\\d]+', p.stem).group() for p in Path(AD_ROOT).joinpath('ad').glob('*.json')})\n",
    "len(all_words)"
   ]
  },
  {
   "cell_type": "code",
   "execution_count": 20,
   "metadata": {},
   "outputs": [
    {
     "data": {
      "text/plain": [
       "1898"
      ]
     },
     "execution_count": 20,
     "metadata": {},
     "output_type": "execute_result"
    }
   ],
   "source": [
    "all_senses = list(filter(None, (get_ad_word(w, ad_root=AD_ROOT, with_contexts=False) for w in all_words)))\n",
    "len(all_senses)"
   ]
  },
  {
   "cell_type": "code",
   "execution_count": 17,
   "metadata": {
    "scrolled": true
   },
   "outputs": [
    {
     "data": {
      "text/plain": [
       "{'meanings': [{'contexts': None,\n",
       "   'id': '1',\n",
       "   'meaning': 'А1, а А2 ‘Имеет место ситуация А1, и естественно ожидать, что не имеет места ситуация А2, потому что ситуация типа А1 обычно препятствует существованию ситуации типа А2; в данном случае А2 имеет место, и говорящий не знает, почему это так, или не думает об этом’.',\n",
       "   'name': 'а 1.1'},\n",
       "  {'contexts': None,\n",
       "   'id': '2',\n",
       "   'meaning': 'А1, а А2 ‘Имеет место ситуация А2, и это обычно уже известно адресату; естественно ожидать, что не имеет места ситуация А1, потому что ситуация типа А2 обычно препятствует существованию ситуации типа А1; в данном случае А1 имеет место, и говорящий не знает, почему это так, или не думает об этом’.',\n",
       "   'name': 'а 1.2'},\n",
       "  {'contexts': None,\n",
       "   'id': '3',\n",
       "   'meaning': 'А1, а А2 ‘Имеет место ситуация А1; естественно ожидать, что не имеет места ситуация А2, потому что ее субъектом является сознательно действующий человек, на поведение которого обычно влияет ситуация типа А1, так что в результате человек не участвует в ситуации типа А2 и она не имеет места; в данном случае А2 имеет место; по мнению говорящего, субъект ситуации А2 не знает, что имеет место А1, или не учитывает А1 в своем поведении’.',\n",
       "   'name': 'а 1.3'},\n",
       "  {'contexts': None,\n",
       "   'id': '4',\n",
       "   'meaning': 'А1, а А2 ‘Имеет место ситуация А1, и естественно ожидать, что не имеет места ситуация А2, так как некоторый фактор, обусловливая ситуацию типа А1, одновременно препятствует существованию ситуации типа А2; в данном случае А2 имеет место, и говорящий не знает, почему это так, или не думает об этом’.',\n",
       "   'name': 'а 1.4'},\n",
       "  {'contexts': None,\n",
       "   'id': '5',\n",
       "   'meaning': 'А1, а А2 ‘Субъект хочет, чтобы имела место ситуация А1 или некоторая подразумеваемая ситуация; для выполнения желаемого нужно, чтобы имела место определенная ситуация; в данном случае вместо нее имеет место противоположная ситуация А2, которая препятствует выполнению желаемого, поэтому субъект не может выполнить то, что хочет’.',\n",
       "   'name': 'а 1.5'},\n",
       "  {'contexts': None,\n",
       "   'id': '6',\n",
       "   'meaning': 'А1 А2, а А3 А4 ‘Характеризуя объекты А1 и А3 по некоторому общему для них признаку, говорящий помещает в фокус внимания сначала объект А1, потом объект А3 и характеризует А1 как А2, А3 – как А4, причем А2 и А4 не тождественны’.',\n",
       "   'name': 'а 2'},\n",
       "  {'contexts': None,\n",
       "   'id': '7',\n",
       "   'meaning': 'А1, а А2 ‘Говорящий указывает на то, что в предложении А2 в фокусе – объект, лишь упоминавшийся или подразумевавшийся в предложении А1, и на то, что за А2 последует продолжение повествования’.',\n",
       "   'name': 'а 3.1, наррат.'},\n",
       "  {'contexts': None,\n",
       "   'id': '8',\n",
       "   'meaning': 'А1, а А2 ‘Имеет место ситуация А1, и благодаря этому ее субъект неожиданно для себя обнаруживает, что имеет место ситуация А2’.',\n",
       "   'name': 'а 3.2, наррат.'},\n",
       "  {'contexts': None,\n",
       "   'id': '9',\n",
       "   'meaning': 'Указывает на то, что говорящий до произнесения данного высказывания, возможно, думал о другом и теперь начинает новую тему.',\n",
       "   'name': 'а 3.3, в функции частицы; разг.'}],\n",
       " 'pos': 'СОЮЗ',\n",
       " 'word': 'а'}"
      ]
     },
     "execution_count": 17,
     "metadata": {},
     "output_type": "execute_result"
    }
   ],
   "source": [
    "all_senses[0]"
   ]
  },
  {
   "cell_type": "code",
   "execution_count": 46,
   "metadata": {},
   "outputs": [],
   "source": [
    "def n_senses(senses):\n",
    "    return [len(x['meanings']) for x in senses]\n",
    "\n",
    "def plot_n_senses_hist(senses, title=None):\n",
    "    plt.figure(figsize=(12, 6))\n",
    "    if title is not None:\n",
    "        plt.title(title)\n",
    "    plt.hist(n_senses(senses), range=[0, 30], bins=31)"
   ]
  },
  {
   "cell_type": "code",
   "execution_count": 35,
   "metadata": {
    "scrolled": true
   },
   "outputs": [
    {
     "data": {
      "text/plain": [
       "{'-а',\n",
       " \"-а'ю\",\n",
       " \"-а'юсь\",\n",
       " '-ов',\n",
       " \"-ущу'\",\n",
       " \"-щу'сь\",\n",
       " '1.2',\n",
       " \"БЕ'З\",\n",
       " 'БЕЛО...',\n",
       " 'ВВОДН.',\n",
       " 'ГЛАГ',\n",
       " 'МЕЖДОМ',\n",
       " 'МЕЖДОМ.',\n",
       " 'НАРЕЧ',\n",
       " 'НАРЕЧ.',\n",
       " 'ПРЕДЛОГ',\n",
       " 'ПРЕДЛОГ.',\n",
       " 'ПРИЛ',\n",
       " 'СОЮЗ',\n",
       " 'СОЮЗ.',\n",
       " 'СУЩ',\n",
       " 'СУЩ\\u200b',\n",
       " 'ЧАСТ',\n",
       " 'ЧАСТ.',\n",
       " 'ЧИСЛ',\n",
       " \"бе'лого\",\n",
       " \"гре'ю\",\n",
       " 'первая',\n",
       " 'разг.',\n",
       " 'с'}"
      ]
     },
     "execution_count": 35,
     "metadata": {},
     "output_type": "execute_result"
    }
   ],
   "source": [
    "{s['pos'] for s in all_senses}"
   ]
  },
  {
   "cell_type": "code",
   "execution_count": 49,
   "metadata": {
    "collapsed": true
   },
   "outputs": [],
   "source": [
    "nouns = [s for s in all_senses if s['pos'] == 'СУЩ']\n",
    "verbs = [s for s in all_senses if s['pos'] == 'ГЛАГ']\n",
    "adjectives = [s for s in all_senses if s['pos'] == 'ПРИЛ']\n",
    "named_senses = [('All', all_senses), ('Nouns', nouns), ('Verbs', verbs), ('Adjectives', adjectives)]"
   ]
  },
  {
   "cell_type": "code",
   "execution_count": 50,
   "metadata": {},
   "outputs": [
    {
     "data": {
      "image/png": "[encoded data removed]",
      "text/plain": [
       "<matplotlib.figure.Figure at 0x7f4a4d60b048>"
      ]
     },
     "metadata": {},
     "output_type": "display_data"
    },
    {
     "data": {
      "image/png": "[encoded data removed]",
      "text/plain": [
       "<matplotlib.figure.Figure at 0x7f4a78158470>"
      ]
     },
     "metadata": {},
     "output_type": "display_data"
    },
    {
     "data": {
      "image/png": "[encoded data removed]",
      "text/plain": [
       "<matplotlib.figure.Figure at 0x7f4a4d8b34a8>"
      ]
     },
     "metadata": {},
     "output_type": "display_data"
    },
    {
     "data": {
      "image/png": "[encoded data removed]",
      "text/plain": [
       "<matplotlib.figure.Figure at 0x7f4a4d5375f8>"
      ]
     },
     "metadata": {},
     "output_type": "display_data"
    }
   ],
   "source": [
    "for name, senses in named_senses:\n",
    "    plot_n_senses_hist(senses, name)"
   ]
  },
  {
   "cell_type": "code",
   "execution_count": 53,
   "metadata": {},
   "outputs": [
    {
     "name": "stdout",
     "output_type": "stream",
     "text": [
      "POS\tNumber\tMean\tMedian\n",
      "All\t1898\t2.74\t2\n",
      "Nouns\t812\t2.44\t2\n",
      "Verbs\t591\t2.99\t2\n",
      "Adjectives\t323\t3.20\t3\n"
     ]
    }
   ],
   "source": [
    "print('POS', 'Number', 'Mean', 'Median', sep='\\t')\n",
    "for name, senses in named_senses:\n",
    "    print('{}\\t{}\\t{:.2f}\\t{:.0f}'.format(\n",
    "        name, len(senses), np.mean(n_senses(senses)), np.median(n_senses(senses))))"
   ]
  }
 ],
 "metadata": {
  "kernelspec": {
   "display_name": "Python 3",
   "language": "python",
   "name": "python3"
  },
  "language_info": {
   "codemirror_mode": {
    "name": "ipython",
    "version": 3
   },
   "file_extension": ".py",
   "mimetype": "text/x-python",
   "name": "python",
   "nbconvert_exporter": "python",
   "pygments_lexer": "ipython3",
   "version": "3.5.3"
  }
 },
 "nbformat": 4,
 "nbformat_minor": 2
}
